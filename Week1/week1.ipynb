{
 "cells": [
  {
   "cell_type": "code",
   "execution_count": null,
   "id": "fec56fba",
   "metadata": {
    "vscode": {
     "languageId": "plaintext"
    }
   },
   "outputs": [],
   "source": [
    "### Connect to database ###\n"
   ]
  },
  {
   "cell_type": "code",
   "execution_count": null,
   "id": "18eb976b",
   "metadata": {
    "vscode": {
     "languageId": "plaintext"
    }
   },
   "outputs": [],
   "source": [
    "import pandas as pd\n",
    "import sqlite3\n",
    "import os\n",
    "\n",
    "# Clear the console at each run\n",
    "os.system('clear')\n",
    "\n",
    "DB_FILE = 'database.sqlite'\n",
    "\n",
    "try:\n",
    "    con = sqlite3.connect('database.sqlite')\n",
    "    cur = con.cursor()\n",
    "except Exception as e:\n",
    "    print(f\"uh oh! Could not connect to database because of: {e}\")"
   ]
  },
  {
   "cell_type": "code",
   "execution_count": null,
   "id": "0efd8265",
   "metadata": {
    "vscode": {
     "languageId": "plaintext"
    }
   },
   "outputs": [],
   "source": []
  }
 ],
 "metadata": {
  "language_info": {
   "name": "python"
  }
 },
 "nbformat": 4,
 "nbformat_minor": 5
}
